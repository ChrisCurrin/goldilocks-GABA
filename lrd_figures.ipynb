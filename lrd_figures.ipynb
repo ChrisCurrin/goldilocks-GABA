{
  "cells": [
    {
      "attachments": {},
      "cell_type": "markdown",
      "metadata": {},
      "source": [
        "## Figures for Network model of Latent Recurrent Discharge (LRD)\n"
      ]
    },
    {
      "attachments": {},
      "cell_type": "markdown",
      "metadata": {},
      "source": [
        "### Some imports and settings\n"
      ]
    },
    {
      "cell_type": "code",
      "execution_count": null,
      "metadata": {
        "notebookRunGroups": {
          "groupValue": "1"
        }
      },
      "outputs": [],
      "source": [
        "SAVE_FIGS = True  # see save_args above for configuration\n",
        "DOWNLOAD_CACHE = False  # if you want the cache files, set to True instead of running simulations again"
      ]
    },
    {
      "cell_type": "code",
      "execution_count": null,
      "metadata": {
        "notebookRunGroups": {
          "groupValue": "1"
        }
      },
      "outputs": [],
      "source": [
        "%load_ext autoreload\n",
        "%autoreload 2"
      ]
    },
    {
      "cell_type": "code",
      "execution_count": null,
      "metadata": {
        "ExecuteTime": {
          "end_time": "2019-06-25T10:17:29.831626Z",
          "start_time": "2019-06-25T10:17:29.825937Z"
        },
        "notebookRunGroups": {
          "groupValue": "1"
        },
        "pycharm": {
          "is_executing": false,
          "name": "#%% \n"
        }
      },
      "outputs": [],
      "source": [
        "import warnings\n",
        "\n",
        "import brian2.numpy_ as np\n",
        "import matplotlib.pyplot as plt\n",
        "\n",
        "from settings import COLOR, G_GABA_LIST, TAU_KCC2_LIST, constants, logging, time_unit\n",
        "\n",
        "# start from defaults before loading stylesheet\n",
        "plt.style.use(\"default\")\n",
        "plt.style.use(\"style/article.mplstyle\")\n",
        "\n",
        "# suppress warnings\n",
        "np.seterr(all=\"ignore\")\n",
        "warnings.filterwarnings(\"ignore\")\n",
        "\n",
        "logger = logging.getLogger(\"lrd\")\n",
        "\n",
        "save_args = dict(use_args=False, close=False, file_formats=[\"svg\", \"jpg\"])"
      ]
    },
    {
      "cell_type": "code",
      "execution_count": null,
      "metadata": {},
      "outputs": [],
      "source": [
        "if DOWNLOAD_CACHE:\n",
        "    %pip install git+https://github.com/ChrisCurrin/dropbox-downloader.git\n",
        "    import dropbox\n",
        "\n",
        "    dropbox.downloadFile(\"https://www.dropbox.com/sh/noqzojddijvvs2a/AAD8ppgjSyi7QIcoGu0e3Ylba?dl=0\", \".\", unzip=True, retain_zip=False)\n"
      ]
    },
    {
      "attachments": {},
      "cell_type": "markdown",
      "metadata": {},
      "source": [
        "# Explain figure\n"
      ]
    },
    {
      "cell_type": "code",
      "execution_count": null,
      "metadata": {
        "ExecuteTime": {
          "end_time": "2019-06-25T10:15:02.584533Z",
          "start_time": "2019-06-25T10:15:02.582093Z"
        }
      },
      "outputs": [],
      "source": [
        "from scripts.lrdfigure_explain import Explain\n",
        "\n",
        "np.random.seed(1337)\n",
        "\n",
        "explain = Explain()\n",
        "\n",
        "explain.run(\n",
        "    # mv_step=4,\n",
        "    # time_per_value=40,\n",
        "    # egaba=[-78, -34],\n",
        "    mv_step=2,\n",
        "    time_per_value=60,\n",
        "    egaba=[-74, -40],\n",
        ")\n",
        "\n",
        "explain.plot()\n",
        "if SAVE_FIGS:\n",
        "    explain.save_figure(**save_args)\n",
        "plt.show()"
      ]
    },
    {
      "attachments": {},
      "cell_type": "markdown",
      "metadata": {},
      "source": [
        "# Alter conductances\n",
        "\n",
        "1. Emulate picrotoxin (pink) by **reducing** $g_{GABA_{max}}$.\n",
        "2. Emulate benzodiazepines (green) by **increasing** $g_{GABA_{max}}$.\n",
        "\n",
        "We can see the effect of benzodiazepines depends on $E_{GABA}$.\n"
      ]
    },
    {
      "cell_type": "code",
      "execution_count": null,
      "metadata": {},
      "outputs": [],
      "source": [
        "from scripts.lrdfigure_drugs import Drugs\n",
        "\n",
        "drugs = Drugs(benzo_strengths=(0, 0.25, 0.5, 1, 2, 4, 8), egabas=[-74, -60, -46])\n",
        "drugs.run()\n",
        "drugs.plot(drugs_to_plot=[0.25, 4])\n",
        "if SAVE_FIGS:\n",
        "    drugs.save_figure(**save_args)"
      ]
    },
    {
      "attachments": {},
      "cell_type": "markdown",
      "metadata": {},
      "source": [
        "## Start having dynamic chloride $Cl^-$\n",
        "\n",
        "We compared networks with either hyperpolarised ($\\approx E_{GABA} = -74 mV$) or depolarised ($ \\approx E\\_{GABA} = -46 mV$) EGABA.\n",
        "\n",
        "The starting $E_{GABA}$ seems to have neglible, if any effect.\n",
        "\n",
        "We further consider the effect of GABA conductance $g_{GABA_{max}}$ (brightness, rows) along with different $\\tau_{KCC2}$ values (hue, traces).\n"
      ]
    },
    {
      "cell_type": "code",
      "execution_count": null,
      "metadata": {},
      "outputs": [],
      "source": [
        "from scripts.lrdfigure_chloride import Chloride\n",
        "\n",
        "cl = Chloride(\n",
        "    tau_KCC2s=TAU_KCC2_LIST[::2][:-1],\n",
        "    E_Cl_0s=(-60, -88),\n",
        "    g_GABAs=(50, 25, 100),\n",
        "    seeds=(None, 1038, 1337, 1111, 1010, 1011, 1101, 1110, 11110, 111100),\n",
        ")\n",
        "cl.run(duration=600)\n",
        "cl.plot(timeit=True, colorbar=False)\n",
        "if SAVE_FIGS:\n",
        "    cl.save_figure(**save_args)\n",
        "del cl"
      ]
    },
    {
      "attachments": {},
      "cell_type": "markdown",
      "metadata": {},
      "source": [
        "### Supplementary work: the effect of neuron size ($L$) and chloride extrusion ($\\tau_{KCC2}$) on the number of bursts in a network\n"
      ]
    },
    {
      "cell_type": "code",
      "execution_count": null,
      "metadata": {},
      "outputs": [],
      "source": [
        "from scripts.lrdfigure_chloride_length import ChlorideLength\n",
        "\n",
        "cl_length = ChlorideLength(\n",
        "    g_GABAs=(50, 25, 100),\n",
        "    lengths=(\n",
        "        15,\n",
        "        # 10,\n",
        "        7.5,\n",
        "        # 6.25,\n",
        "        5,\n",
        "    ),\n",
        "    seeds=(\n",
        "        None,\n",
        "        1038,\n",
        "        1337,\n",
        "        1111,\n",
        "        1234,\n",
        "    ),\n",
        ")\n",
        "\n",
        "cl_length.run(duration=600)\n",
        "cl_length.plot(timeit=True, colorbar=False)\n",
        "if SAVE_FIGS:\n",
        "    cl_length.save_figure(**save_args)"
      ]
    },
    {
      "attachments": {},
      "cell_type": "markdown",
      "metadata": {},
      "source": [
        "# Explore time constants of \"Excitatory\" and \"Inhibitory\" KCC2\n",
        "\n",
        "$\\tau_{KCC2_{exc}}$ = [15, 21, 30, 42, 60, 84, 120, 169, 240]\n",
        "\n",
        "$\\tau_{KCC2_{inh}}$ = [15, 21, 30, 42, 60, 84, 120, 169, 240]\n"
      ]
    },
    {
      "cell_type": "code",
      "execution_count": null,
      "metadata": {},
      "outputs": [],
      "source": [
        "from scripts.lrdfigure_tau import Tau\n",
        "\n",
        "tau = Tau(\n",
        "    tau_KCC2_E_list=TAU_KCC2_LIST,\n",
        "    tau_KCC2_I_list=TAU_KCC2_LIST,\n",
        "    g_GABA_list=G_GABA_LIST + [37, 75, 150],\n",
        "    seeds=(\n",
        "        None,\n",
        "        1038,\n",
        "        1337,\n",
        "        1111,\n",
        "        1010,\n",
        "    ),\n",
        ")\n",
        "\n",
        "tau.run(duration=600, nrn_idx_i=[0, 1, 2, 3])\n",
        "(df_long, df_bursts_bins, df_taus, df_num_bursts) = tau.process_data()\n",
        "tau.plot(\n",
        "    plot_ggaba=[25, 100],\n",
        "    df_num_bursts=df_num_bursts,\n",
        "    vmax=df_num_bursts[df_num_bursts[\"g_GABA\"].isin([25, 150])][\n",
        "        \"Number of bursts\"\n",
        "    ].max(),\n",
        ")\n",
        "if SAVE_FIGS:\n",
        "    tau.save_figure(**save_args)"
      ]
    },
    {
      "cell_type": "code",
      "execution_count": null,
      "metadata": {},
      "outputs": [],
      "source": [
        "tau.plot_old(plot_g_GABA_list=[25, 100])"
      ]
    },
    {
      "attachments": {},
      "cell_type": "markdown",
      "metadata": {},
      "source": [
        "## $g_{GABA_{max}}$ vs $\\tau_{KCC2}$ with $E_{GABA}$\n",
        "\n",
        "First, plot number of bursts as a function of $g_{GABA_{max}}$ as we directly vary $E_{GABA}$ (static $Cl^-$).\n",
        "\n",
        "Next, plot number of bursts and $E_{GABA}$ as a function of $g_{GABA_{max}}$ and $\\tau_{KCC2}$.\n",
        "\n",
        "Finally, plot the relationship between the pre-burst GABAergic current ($I_{GABA}$) and the number of bursts. The $g_{GABA_{max}}$ and $\\tau_{KCC2}$ are displayed for reference as color and marker size, respectively. Squares are from static simulations.\n"
      ]
    },
    {
      "cell_type": "code",
      "execution_count": null,
      "metadata": {},
      "outputs": [],
      "source": [
        "from scripts.lrdfigure_ggaba_e import Gve\n",
        "\n",
        "# add some more lower values for tau\n",
        "tau_KCC2_list = TAU_KCC2_LIST\n",
        "\n",
        "ratio = tau_KCC2_list[1] / tau_KCC2_list[0]\n",
        "tau_KCC2_list = [np.round(tau_KCC2_list[0] / ratio, 1)] + tau_KCC2_list\n",
        "tau_KCC2_list = [np.round(tau_KCC2_list[0] / ratio, 1)] + tau_KCC2_list\n",
        "tau_KCC2_list = [np.round(tau_KCC2_list[0] / ratio, 1)] + tau_KCC2_list\n",
        "tau_KCC2_list = [np.round(tau_KCC2_list[0] / ratio, 1)] + tau_KCC2_list\n",
        "\n",
        "\n",
        "gve = Gve(\n",
        "    seeds=(None, 1234, 5678, 1426987, 86751, 1010, 876, 12576, 9681, 814265),\n",
        "    gGABAsvEGABA=sorted(\n",
        "        set(\n",
        "            np.append(\n",
        "                np.round(np.arange(0, 100.0001, 10), 0),\n",
        "                np.geomspace(10, 1000, 11).round(0),\n",
        "            )\n",
        "        )\n",
        "    ),\n",
        "    gGABAs=np.geomspace(10, 1000, 11).round(0),\n",
        "    tau_KCC2s=tau_KCC2_list,\n",
        ")\n",
        "gve.run()\n",
        "gve.process()\n",
        "import seaborn as sns\n",
        "\n",
        "fig, axes = plt.subplots(ncols=2, figsize=(8, 4))\n",
        "sns.histplot(\n",
        "    data=gve.df_g_tau_bursts,\n",
        "    x=\"Number of bursts\\n(per 60 s)\",\n",
        "    hue=constants.TAU_KCC2,\n",
        "    multiple=\"stack\",\n",
        "    palette=COLOR.TAU_SM.cmap,\n",
        "    hue_norm=COLOR.TAU_SM.norm,\n",
        "    ax=axes[0],\n",
        "    alpha=1,\n",
        "    stat=\"percent\",\n",
        ")\n",
        "sns.histplot(\n",
        "    data=gve.df_g_tau_bursts,\n",
        "    x=\"Number of bursts\\n(per 60 s)\",\n",
        "    hue=constants.G_GABA,\n",
        "    multiple=\"stack\",\n",
        "    palette=COLOR.G_GABA_SM.cmap,\n",
        "    hue_norm=COLOR.G_GABA_SM.norm,\n",
        "    ax=axes[1],\n",
        "    alpha=1,\n",
        "    stat=\"percent\",\n",
        ")\n",
        "\n",
        "# most bursts are <= 15 so for visualisation, set this to the norm max\n",
        "gve.plot(egabas=5, bursts_max=15)\n",
        "if SAVE_FIGS:\n",
        "    from style.figure import plot_save\n",
        "\n",
        "    plot_save(f\"output/{gve.fig_name}_supp.jpg\", figs=[fig], close=False)\n",
        "    gve.save_figure(figs=gve.figs, **save_args)"
      ]
    },
    {
      "attachments": {},
      "cell_type": "markdown",
      "metadata": {},
      "source": [
        "## Supplementary: investigate how excitatory parameters affect the number of bursts.\n",
        "\n",
        "Specifically, we vary:\n",
        "\n",
        "1. $g_{AMPA_{max}}$\n",
        "2. $g_{NMDA_{max}}$\n",
        "\n",
        "And run static $Cl^-$ simulations at hyperpolarised (blue), close to $V_{rest}$ (purple), and depolarised (red) EGABA values.\n"
      ]
    },
    {
      "cell_type": "code",
      "execution_count": null,
      "metadata": {},
      "outputs": [],
      "source": [
        "from scripts.lrdfigure_gampa import Params\n",
        "\n",
        "exc_params = Params(\n",
        "    gGABAs=[\n",
        "        # 0,\n",
        "        25,\n",
        "        50,\n",
        "        100,\n",
        "        # 200,\n",
        "    ],\n",
        "    gAMPAs=np.round(np.arange(0, 20.0001, 5.0), 0),\n",
        "    gNMDAs=[5.0, 7.5, 10.0],\n",
        "    seeds=(None, 1013, 12987, 1234, 1837),\n",
        ")\n",
        "exc_params.run()\n",
        "exc_params.process()\n",
        "exc_params.plot(egabas=[-42, -56, -70])\n",
        "\n",
        "if SAVE_FIGS:\n",
        "    exc_params.save_figure(**save_args)"
      ]
    },
    {
      "attachments": {},
      "cell_type": "markdown",
      "metadata": {},
      "source": [
        "# Playground\n"
      ]
    },
    {
      "attachments": {},
      "cell_type": "markdown",
      "metadata": {},
      "source": [
        "`None` keeps default values (see `core.sim.py`)\n"
      ]
    },
    {
      "cell_type": "code",
      "execution_count": null,
      "metadata": {},
      "outputs": [],
      "source": [
        "from core.sim import single_run\n",
        "\n",
        "net, results = single_run(\n",
        "    N=None,\n",
        "    duration=5 * second,\n",
        "    dt=None,  # Simulation params\n",
        "    Mg2_t0=None,\n",
        "    zero_mag_wash_rate=None,  # Seizure params\n",
        "    benzo_onset_t=None,\n",
        "    benzo_wash_rate=None,\n",
        "    benzo_strength=None,\n",
        "    benzo_off_t=None,  # drug params\n",
        "    p=None,\n",
        "    p_ee=None,\n",
        "    p_ei=None,\n",
        "    p_ie=None,\n",
        "    p_ii=None,  # Connection params\n",
        "    w=None,\n",
        "    w_ee=None,\n",
        "    w_ei=None,\n",
        "    w_ie=None,\n",
        "    w_ii=None,  # weight params\n",
        "    U_0=None,\n",
        "    tau_d=None,\n",
        "    tau_f=None,  # STP params\n",
        "    g_AMPA_max=None,\n",
        "    g_NMDA_max=None,\n",
        "    g_GABA_max=None,  # conductances\n",
        "    E_Cl_0=None,\n",
        "    E_Cl_target=None,\n",
        "    E_Cl_end=None,\n",
        "    E_Cl_pop=None,  # ECl params\n",
        "    length=None,  # neuron params\n",
        "    dyn_cl=None,\n",
        "    manual_cl=None,  # dynamic/manual arg\n",
        "    tau_KCC2_E=None,\n",
        "    tau_KCC2_I=None,\n",
        "    num_ecl_steps=None,  # dynamic + manual params\n",
        "    __build=True,\n",
        "    __save_run=False,\n",
        "    __monitors=None,\n",
        "    nrn_idx_i=None,  # Brian2 args\n",
        "    run_seed=None,\n",
        "    __plot=True,\n",
        "    __device_directory=None,\n",
        ")"
      ]
    },
    {
      "attachments": {},
      "cell_type": "markdown",
      "metadata": {},
      "source": []
    }
  ],
  "metadata": {
    "kernelspec": {
      "display_name": "brian2",
      "language": "python",
      "name": "python3"
    },
    "language_info": {
      "codemirror_mode": {
        "name": "ipython",
        "version": 3
      },
      "file_extension": ".py",
      "mimetype": "text/x-python",
      "name": "python",
      "nbconvert_exporter": "python",
      "pygments_lexer": "ipython3",
      "version": "3.10.11"
    },
    "pycharm": {
      "stem_cell": {
        "cell_type": "raw",
        "metadata": {
          "collapsed": false
        },
        "source": [
          "\n"
        ]
      }
    },
    "varInspector": {
      "cols": {
        "lenName": 16,
        "lenType": 16,
        "lenVar": 40
      },
      "kernels_config": {
        "python": {
          "delete_cmd_postfix": "",
          "delete_cmd_prefix": "del ",
          "library": "var_list.py",
          "varRefreshCmd": "print(var_dic_list())"
        },
        "r": {
          "delete_cmd_postfix": ") ",
          "delete_cmd_prefix": "rm(",
          "library": "var_list.r",
          "varRefreshCmd": "cat(var_dic_list()) "
        }
      },
      "types_to_exclude": [
        "module",
        "function",
        "builtin_function_or_method",
        "instance",
        "_Feature"
      ],
      "window_display": false
    }
  },
  "nbformat": 4,
  "nbformat_minor": 1
}
