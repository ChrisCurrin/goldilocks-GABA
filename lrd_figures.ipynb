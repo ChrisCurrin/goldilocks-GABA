{
  "cells": [
    {
      "cell_type": "markdown",
      "metadata": {},
      "source": [
        "## Figures for Network model of Latent Recurrent Discharge (LRD)"
      ]
    },
    {
      "attachments": {},
      "cell_type": "markdown",
      "metadata": {},
      "source": [
        "### Some imports and settings"
      ]
    },
    {
      "cell_type": "code",
      "execution_count": 1,
      "metadata": {
        "ExecuteTime": {
          "end_time": "2019-06-25T10:17:29.831626Z",
          "start_time": "2019-06-25T10:17:29.825937Z"
        },
        "pycharm": {
          "is_executing": false,
          "name": "#%% \n"
        }
      },
      "outputs": [],
      "source": [
        "import brian2.numpy_ as np\n",
        "\n",
        "from settings import logging, time_unit\n",
        "\n",
        "logger = logging.getLogger(\"lrd\")\n",
        "\n",
        "plot_fig = True\n",
        "file_formats = [\"pdf\", \"png\"]\n",
        "save_args = dict(use_args=True, close=True, file_formats=[\"pdf\"])\n"
      ]
    },
    {
      "cell_type": "markdown",
      "metadata": {},
      "source": [
        "### Base Figure"
      ]
    },
    {
      "cell_type": "code",
      "execution_count": 2,
      "metadata": {
        "ExecuteTime": {
          "end_time": "2019-06-25T10:12:16.940164Z",
          "start_time": "2019-06-25T10:11:02.605520Z"
        },
        "pycharm": {
          "is_executing": false
        }
      },
      "outputs": [
        {
          "name": "stderr",
          "output_type": "stream",
          "text": [
            "\u001b[37m2023-04-16 12:15:32 [   DEBUG]                                                                                            (sim::sim.py::149)\u001b[0m\n",
            "\u001b[37m2023-04-16 12:15:32 [   DEBUG] scale = 1.0000                                                                             (sim::sim.py::240)\u001b[0m\n",
            "\u001b[37m2023-04-16 12:15:32 [   DEBUG] EGABA = -74.00                                                                             (sim::sim.py::278)\u001b[0m\n",
            "\u001b[37m2023-04-16 12:15:32 [   DEBUG] static_cl_units = 14.0000mV                                                                (sim::sim.py::294)\u001b[0m\n",
            "\u001b[37m2023-04-16 12:15:32 [   DEBUG] manual_cl                                                                                  (sim::sim.py::346)\u001b[0m\n",
            "\u001b[37m2023-04-16 12:15:32 [   DEBUG] facilitating synapses                                                                      (sim::sim.py::401)\u001b[0m\n",
            "WARNING    Cannot check whether the indices to record from are valid. This can happen in standalone mode when recording from synapses that have been created with a connection pattern. You can avoid this situation by using synaptic indices in the connect call. [brian2.monitors.statemonitor.cannot_check_statemonitor_indices]\n",
            "WARNING    Cannot check whether the indices to record from are valid. This can happen in standalone mode when recording from synapses that have been created with a connection pattern. You can avoid this situation by using synaptic indices in the connect call. [brian2.monitors.statemonitor.cannot_check_statemonitor_indices]\n",
            "WARNING    Cannot check whether the indices to record from are valid. This can happen in standalone mode when recording from synapses that have been created with a connection pattern. You can avoid this situation by using synaptic indices in the connect call. [brian2.monitors.statemonitor.cannot_check_statemonitor_indices]\n",
            "WARNING    Cannot check whether the indices to record from are valid. This can happen in standalone mode when recording from synapses that have been created with a connection pattern. You can avoid this situation by using synaptic indices in the connect call. [brian2.monitors.statemonitor.cannot_check_statemonitor_indices]\n",
            "\u001b[32m2023-04-16 12:15:33 [    INFO] Incrementing E_Cl by 14.00mV every 45.00s for population: neurons                          (sim::sim.py::539)\u001b[0m\n",
            "\u001b[32m2023-04-16 12:15:33 [    INFO] [1.0] mM of Mg will be removed (at 0. ss) and added back (at 90. ss) over 5.0s at a rate_ext of [0.0002]/ms) (sim::sim.py::564)\u001b[0m\n",
            "\u001b[32m2023-04-16 12:15:33 [    INFO] took 0.48s to setup                                                                        (sim::sim.py::631)\u001b[0m\n",
            "\u001b[32m2023-04-16 12:15:33 [    INFO] running                                                                                    (sim::sim.py::633)\u001b[0m\n",
            "\u001b[32m2023-04-16 12:15:33 [    INFO] creating /var/folders/j7/sk2wgqnj40dcd3vyh9m8x2f00000gn/T/brian_flag_test_cttaxxa3/var     (root::dir_util.py::71)\u001b[0m\n",
            "\u001b[32m2023-04-16 12:15:33 [    INFO] creating /var/folders/j7/sk2wgqnj40dcd3vyh9m8x2f00000gn/T/brian_flag_test_cttaxxa3/var/folders (root::dir_util.py::71)\u001b[0m\n",
            "\u001b[32m2023-04-16 12:15:33 [    INFO] creating /var/folders/j7/sk2wgqnj40dcd3vyh9m8x2f00000gn/T/brian_flag_test_cttaxxa3/var/folders/j7 (root::dir_util.py::71)\u001b[0m\n",
            "\u001b[32m2023-04-16 12:15:33 [    INFO] creating /var/folders/j7/sk2wgqnj40dcd3vyh9m8x2f00000gn/T/brian_flag_test_cttaxxa3/var/folders/j7/sk2wgqnj40dcd3vyh9m8x2f00000gn (root::dir_util.py::71)\u001b[0m\n",
            "\u001b[32m2023-04-16 12:15:33 [    INFO] creating /var/folders/j7/sk2wgqnj40dcd3vyh9m8x2f00000gn/T/brian_flag_test_cttaxxa3/var/folders/j7/sk2wgqnj40dcd3vyh9m8x2f00000gn/T (root::dir_util.py::71)\u001b[0m\n",
            "\u001b[32m2023-04-16 12:15:33 [    INFO] creating /var/folders/j7/sk2wgqnj40dcd3vyh9m8x2f00000gn/T/brian_flag_test_cttaxxa3/var/folders/j7/sk2wgqnj40dcd3vyh9m8x2f00000gn/T/brian_flag_test_cttaxxa3 (root::dir_util.py::71)\u001b[0m\n",
            "\u001b[32m2023-04-16 12:15:33 [    INFO] arm64-apple-darwin20.0.0-clang -DNDEBUG -fwrapv -O2 -Wall -fPIC -O2 -isystem /Users/ccurrin/mambaforge/envs/brian2/include -arch arm64 -fPIC -O2 -isystem /Users/ccurrin/mambaforge/envs/brian2/include -arch arm64 -ftree-vectorize -fPIC -fPIE -fstack-protector-strong -O2 -pipe -isystem /Users/ccurrin/mambaforge/envs/brian2/include -D_FORTIFY_SOURCE=2 -isystem /Users/ccurrin/mambaforge/envs/brian2/include -c /var/folders/j7/sk2wgqnj40dcd3vyh9m8x2f00000gn/T/brian_flag_test_cttaxxa3/flag_test.cpp -o /var/folders/j7/sk2wgqnj40dcd3vyh9m8x2f00000gn/T/brian_flag_test_cttaxxa3/var/folders/j7/sk2wgqnj40dcd3vyh9m8x2f00000gn/T/brian_flag_test_cttaxxa3/flag_test.o -w (root::spawn.py::38)\u001b[0m\n",
            "\u001b[32m2023-04-16 12:15:34 [    INFO] creating /var/folders/j7/sk2wgqnj40dcd3vyh9m8x2f00000gn/T/brian_flag_test_rph0l818/var     (root::dir_util.py::71)\u001b[0m\n",
            "\u001b[32m2023-04-16 12:15:34 [    INFO] creating /var/folders/j7/sk2wgqnj40dcd3vyh9m8x2f00000gn/T/brian_flag_test_rph0l818/var/folders (root::dir_util.py::71)\u001b[0m\n",
            "\u001b[32m2023-04-16 12:15:34 [    INFO] creating /var/folders/j7/sk2wgqnj40dcd3vyh9m8x2f00000gn/T/brian_flag_test_rph0l818/var/folders/j7 (root::dir_util.py::71)\u001b[0m\n",
            "\u001b[32m2023-04-16 12:15:34 [    INFO] creating /var/folders/j7/sk2wgqnj40dcd3vyh9m8x2f00000gn/T/brian_flag_test_rph0l818/var/folders/j7/sk2wgqnj40dcd3vyh9m8x2f00000gn (root::dir_util.py::71)\u001b[0m\n",
            "\u001b[32m2023-04-16 12:15:34 [    INFO] creating /var/folders/j7/sk2wgqnj40dcd3vyh9m8x2f00000gn/T/brian_flag_test_rph0l818/var/folders/j7/sk2wgqnj40dcd3vyh9m8x2f00000gn/T (root::dir_util.py::71)\u001b[0m\n",
            "\u001b[32m2023-04-16 12:15:34 [    INFO] creating /var/folders/j7/sk2wgqnj40dcd3vyh9m8x2f00000gn/T/brian_flag_test_rph0l818/var/folders/j7/sk2wgqnj40dcd3vyh9m8x2f00000gn/T/brian_flag_test_rph0l818 (root::dir_util.py::71)\u001b[0m\n",
            "\u001b[32m2023-04-16 12:15:34 [    INFO] arm64-apple-darwin20.0.0-clang -DNDEBUG -fwrapv -O2 -Wall -fPIC -O2 -isystem /Users/ccurrin/mambaforge/envs/brian2/include -arch arm64 -fPIC -O2 -isystem /Users/ccurrin/mambaforge/envs/brian2/include -arch arm64 -ftree-vectorize -fPIC -fPIE -fstack-protector-strong -O2 -pipe -isystem /Users/ccurrin/mambaforge/envs/brian2/include -D_FORTIFY_SOURCE=2 -isystem /Users/ccurrin/mambaforge/envs/brian2/include -c /var/folders/j7/sk2wgqnj40dcd3vyh9m8x2f00000gn/T/brian_flag_test_rph0l818/flag_test.cpp -o /var/folders/j7/sk2wgqnj40dcd3vyh9m8x2f00000gn/T/brian_flag_test_rph0l818/var/folders/j7/sk2wgqnj40dcd3vyh9m8x2f00000gn/T/brian_flag_test_rph0l818/flag_test.o -O3 (root::spawn.py::38)\u001b[0m\n",
            "\u001b[32m2023-04-16 12:15:34 [    INFO] creating /var/folders/j7/sk2wgqnj40dcd3vyh9m8x2f00000gn/T/brian_flag_test__p13pe0d/var     (root::dir_util.py::71)\u001b[0m\n",
            "\u001b[32m2023-04-16 12:15:34 [    INFO] creating /var/folders/j7/sk2wgqnj40dcd3vyh9m8x2f00000gn/T/brian_flag_test__p13pe0d/var/folders (root::dir_util.py::71)\u001b[0m\n",
            "\u001b[32m2023-04-16 12:15:34 [    INFO] creating /var/folders/j7/sk2wgqnj40dcd3vyh9m8x2f00000gn/T/brian_flag_test__p13pe0d/var/folders/j7 (root::dir_util.py::71)\u001b[0m\n",
            "\u001b[32m2023-04-16 12:15:34 [    INFO] creating /var/folders/j7/sk2wgqnj40dcd3vyh9m8x2f00000gn/T/brian_flag_test__p13pe0d/var/folders/j7/sk2wgqnj40dcd3vyh9m8x2f00000gn (root::dir_util.py::71)\u001b[0m\n",
            "\u001b[32m2023-04-16 12:15:34 [    INFO] creating /var/folders/j7/sk2wgqnj40dcd3vyh9m8x2f00000gn/T/brian_flag_test__p13pe0d/var/folders/j7/sk2wgqnj40dcd3vyh9m8x2f00000gn/T (root::dir_util.py::71)\u001b[0m\n",
            "\u001b[32m2023-04-16 12:15:34 [    INFO] creating /var/folders/j7/sk2wgqnj40dcd3vyh9m8x2f00000gn/T/brian_flag_test__p13pe0d/var/folders/j7/sk2wgqnj40dcd3vyh9m8x2f00000gn/T/brian_flag_test__p13pe0d (root::dir_util.py::71)\u001b[0m\n",
            "\u001b[32m2023-04-16 12:15:34 [    INFO] arm64-apple-darwin20.0.0-clang -DNDEBUG -fwrapv -O2 -Wall -fPIC -O2 -isystem /Users/ccurrin/mambaforge/envs/brian2/include -arch arm64 -fPIC -O2 -isystem /Users/ccurrin/mambaforge/envs/brian2/include -arch arm64 -ftree-vectorize -fPIC -fPIE -fstack-protector-strong -O2 -pipe -isystem /Users/ccurrin/mambaforge/envs/brian2/include -D_FORTIFY_SOURCE=2 -isystem /Users/ccurrin/mambaforge/envs/brian2/include -c /var/folders/j7/sk2wgqnj40dcd3vyh9m8x2f00000gn/T/brian_flag_test__p13pe0d/flag_test.cpp -o /var/folders/j7/sk2wgqnj40dcd3vyh9m8x2f00000gn/T/brian_flag_test__p13pe0d/var/folders/j7/sk2wgqnj40dcd3vyh9m8x2f00000gn/T/brian_flag_test__p13pe0d/flag_test.o -ffast-math (root::spawn.py::38)\u001b[0m\n",
            "\u001b[32m2023-04-16 12:15:34 [    INFO] creating /var/folders/j7/sk2wgqnj40dcd3vyh9m8x2f00000gn/T/brian_flag_test_0bsxojgn/var     (root::dir_util.py::71)\u001b[0m\n",
            "\u001b[32m2023-04-16 12:15:34 [    INFO] creating /var/folders/j7/sk2wgqnj40dcd3vyh9m8x2f00000gn/T/brian_flag_test_0bsxojgn/var/folders (root::dir_util.py::71)\u001b[0m\n",
            "\u001b[32m2023-04-16 12:15:34 [    INFO] creating /var/folders/j7/sk2wgqnj40dcd3vyh9m8x2f00000gn/T/brian_flag_test_0bsxojgn/var/folders/j7 (root::dir_util.py::71)\u001b[0m\n",
            "\u001b[32m2023-04-16 12:15:34 [    INFO] creating /var/folders/j7/sk2wgqnj40dcd3vyh9m8x2f00000gn/T/brian_flag_test_0bsxojgn/var/folders/j7/sk2wgqnj40dcd3vyh9m8x2f00000gn (root::dir_util.py::71)\u001b[0m\n",
            "\u001b[32m2023-04-16 12:15:34 [    INFO] creating /var/folders/j7/sk2wgqnj40dcd3vyh9m8x2f00000gn/T/brian_flag_test_0bsxojgn/var/folders/j7/sk2wgqnj40dcd3vyh9m8x2f00000gn/T (root::dir_util.py::71)\u001b[0m\n",
            "\u001b[32m2023-04-16 12:15:34 [    INFO] creating /var/folders/j7/sk2wgqnj40dcd3vyh9m8x2f00000gn/T/brian_flag_test_0bsxojgn/var/folders/j7/sk2wgqnj40dcd3vyh9m8x2f00000gn/T/brian_flag_test_0bsxojgn (root::dir_util.py::71)\u001b[0m\n",
            "\u001b[32m2023-04-16 12:15:34 [    INFO] arm64-apple-darwin20.0.0-clang -DNDEBUG -fwrapv -O2 -Wall -fPIC -O2 -isystem /Users/ccurrin/mambaforge/envs/brian2/include -arch arm64 -fPIC -O2 -isystem /Users/ccurrin/mambaforge/envs/brian2/include -arch arm64 -ftree-vectorize -fPIC -fPIE -fstack-protector-strong -O2 -pipe -isystem /Users/ccurrin/mambaforge/envs/brian2/include -D_FORTIFY_SOURCE=2 -isystem /Users/ccurrin/mambaforge/envs/brian2/include -c /var/folders/j7/sk2wgqnj40dcd3vyh9m8x2f00000gn/T/brian_flag_test_0bsxojgn/flag_test.cpp -o /var/folders/j7/sk2wgqnj40dcd3vyh9m8x2f00000gn/T/brian_flag_test_0bsxojgn/var/folders/j7/sk2wgqnj40dcd3vyh9m8x2f00000gn/T/brian_flag_test_0bsxojgn/flag_test.o -fno-finite-math-only (root::spawn.py::38)\u001b[0m\n",
            "\u001b[32m2023-04-16 12:15:34 [    INFO] creating /var/folders/j7/sk2wgqnj40dcd3vyh9m8x2f00000gn/T/brian_flag_test_q_9atut0/var     (root::dir_util.py::71)\u001b[0m\n",
            "\u001b[32m2023-04-16 12:15:34 [    INFO] creating /var/folders/j7/sk2wgqnj40dcd3vyh9m8x2f00000gn/T/brian_flag_test_q_9atut0/var/folders (root::dir_util.py::71)\u001b[0m\n",
            "\u001b[32m2023-04-16 12:15:34 [    INFO] creating /var/folders/j7/sk2wgqnj40dcd3vyh9m8x2f00000gn/T/brian_flag_test_q_9atut0/var/folders/j7 (root::dir_util.py::71)\u001b[0m\n",
            "\u001b[32m2023-04-16 12:15:34 [    INFO] creating /var/folders/j7/sk2wgqnj40dcd3vyh9m8x2f00000gn/T/brian_flag_test_q_9atut0/var/folders/j7/sk2wgqnj40dcd3vyh9m8x2f00000gn (root::dir_util.py::71)\u001b[0m\n",
            "\u001b[32m2023-04-16 12:15:34 [    INFO] creating /var/folders/j7/sk2wgqnj40dcd3vyh9m8x2f00000gn/T/brian_flag_test_q_9atut0/var/folders/j7/sk2wgqnj40dcd3vyh9m8x2f00000gn/T (root::dir_util.py::71)\u001b[0m\n",
            "\u001b[32m2023-04-16 12:15:34 [    INFO] creating /var/folders/j7/sk2wgqnj40dcd3vyh9m8x2f00000gn/T/brian_flag_test_q_9atut0/var/folders/j7/sk2wgqnj40dcd3vyh9m8x2f00000gn/T/brian_flag_test_q_9atut0 (root::dir_util.py::71)\u001b[0m\n",
            "\u001b[32m2023-04-16 12:15:34 [    INFO] arm64-apple-darwin20.0.0-clang -DNDEBUG -fwrapv -O2 -Wall -fPIC -O2 -isystem /Users/ccurrin/mambaforge/envs/brian2/include -arch arm64 -fPIC -O2 -isystem /Users/ccurrin/mambaforge/envs/brian2/include -arch arm64 -ftree-vectorize -fPIC -fPIE -fstack-protector-strong -O2 -pipe -isystem /Users/ccurrin/mambaforge/envs/brian2/include -D_FORTIFY_SOURCE=2 -isystem /Users/ccurrin/mambaforge/envs/brian2/include -c /var/folders/j7/sk2wgqnj40dcd3vyh9m8x2f00000gn/T/brian_flag_test_q_9atut0/flag_test.cpp -o /var/folders/j7/sk2wgqnj40dcd3vyh9m8x2f00000gn/T/brian_flag_test_q_9atut0/var/folders/j7/sk2wgqnj40dcd3vyh9m8x2f00000gn/T/brian_flag_test_q_9atut0/flag_test.o -march=native (root::spawn.py::38)\u001b[0m\n",
            "WARNING    Removing unsupported flag '-march=native' from compiler flags. [brian2.codegen.cpp_prefs]\n",
            "\u001b[32m2023-04-16 12:15:34 [    INFO] creating /var/folders/j7/sk2wgqnj40dcd3vyh9m8x2f00000gn/T/brian_flag_test_42q2q3zg/var     (root::dir_util.py::71)\u001b[0m\n",
            "\u001b[32m2023-04-16 12:15:34 [    INFO] creating /var/folders/j7/sk2wgqnj40dcd3vyh9m8x2f00000gn/T/brian_flag_test_42q2q3zg/var/folders (root::dir_util.py::71)\u001b[0m\n",
            "\u001b[32m2023-04-16 12:15:34 [    INFO] creating /var/folders/j7/sk2wgqnj40dcd3vyh9m8x2f00000gn/T/brian_flag_test_42q2q3zg/var/folders/j7 (root::dir_util.py::71)\u001b[0m\n",
            "\u001b[32m2023-04-16 12:15:34 [    INFO] creating /var/folders/j7/sk2wgqnj40dcd3vyh9m8x2f00000gn/T/brian_flag_test_42q2q3zg/var/folders/j7/sk2wgqnj40dcd3vyh9m8x2f00000gn (root::dir_util.py::71)\u001b[0m\n",
            "\u001b[32m2023-04-16 12:15:34 [    INFO] creating /var/folders/j7/sk2wgqnj40dcd3vyh9m8x2f00000gn/T/brian_flag_test_42q2q3zg/var/folders/j7/sk2wgqnj40dcd3vyh9m8x2f00000gn/T (root::dir_util.py::71)\u001b[0m\n",
            "\u001b[32m2023-04-16 12:15:34 [    INFO] creating /var/folders/j7/sk2wgqnj40dcd3vyh9m8x2f00000gn/T/brian_flag_test_42q2q3zg/var/folders/j7/sk2wgqnj40dcd3vyh9m8x2f00000gn/T/brian_flag_test_42q2q3zg (root::dir_util.py::71)\u001b[0m\n",
            "\u001b[32m2023-04-16 12:15:34 [    INFO] arm64-apple-darwin20.0.0-clang -DNDEBUG -fwrapv -O2 -Wall -fPIC -O2 -isystem /Users/ccurrin/mambaforge/envs/brian2/include -arch arm64 -fPIC -O2 -isystem /Users/ccurrin/mambaforge/envs/brian2/include -arch arm64 -ftree-vectorize -fPIC -fPIE -fstack-protector-strong -O2 -pipe -isystem /Users/ccurrin/mambaforge/envs/brian2/include -D_FORTIFY_SOURCE=2 -isystem /Users/ccurrin/mambaforge/envs/brian2/include -c /var/folders/j7/sk2wgqnj40dcd3vyh9m8x2f00000gn/T/brian_flag_test_42q2q3zg/flag_test.cpp -o /var/folders/j7/sk2wgqnj40dcd3vyh9m8x2f00000gn/T/brian_flag_test_42q2q3zg/var/folders/j7/sk2wgqnj40dcd3vyh9m8x2f00000gn/T/brian_flag_test_42q2q3zg/flag_test.o -std=c++11 (root::spawn.py::38)\u001b[0m\n"
          ]
        },
        {
          "name": "stdout",
          "output_type": "stream",
          "text": [
            "Starting simulation at t=0 s for duration 90 s\n",
            "22.8384 s (25%) simulated in 10s, estimated 29s remaining.\n",
            "45.9423 s (51%) simulated in 20s, estimated 19s remaining.\n",
            "69.1494 s (76%) simulated in 30s, estimated 9s remaining.\n",
            "90 s (100%) simulated in 39s\n"
          ]
        },
        {
          "name": "stderr",
          "output_type": "stream",
          "text": [
            "\u001b[32m2023-04-16 12:16:37 [    INFO] took 64.11s to run                                                                         (sim::sim.py::668)\u001b[0m\n"
          ]
        }
      ],
      "source": [
        "from core.sim import single_run\n",
        "net, results = single_run()"
      ]
    },
    {
      "cell_type": "code",
      "execution_count": 9,
      "metadata": {},
      "outputs": [
        {
          "data": {
            "text/plain": [
              "MagicNetwork()"
            ]
          },
          "execution_count": 9,
          "metadata": {},
          "output_type": "execute_result"
        }
      ],
      "source": [
        "brian2plot"
      ]
    },
    {
      "attachments": {},
      "cell_type": "markdown",
      "metadata": {},
      "source": [
        "## Explain figure"
      ]
    },
    {
      "cell_type": "code",
      "execution_count": null,
      "metadata": {
        "ExecuteTime": {
          "end_time": "2019-06-25T10:15:02.584533Z",
          "start_time": "2019-06-25T10:15:02.582093Z"
        }
      },
      "outputs": [],
      "source": [
        "from lrdfigure_explain import Explain\n",
        "\n",
        "np.random.seed(1337)\n",
        "\n",
        "save_args = dict(use_args=False, close=True, file_formats=[\"pdf\"])\n",
        "\n",
        "explain = Explain()\n",
        "ehco3 = -18\n",
        "phco3 = 0.2\n",
        "pcl = 1 - phco3\n",
        "mv_step = 2\n",
        "time_per_value = 60\n",
        "egaba = [-74, -40]\n",
        "diff = egaba[1] - egaba[0]\n",
        "values = diff // mv_step\n",
        "steps = values - 1\n",
        "duration = values * time_per_value\n",
        "ecl = [round((e - phco3 * ehco3) / pcl, 2) for e in egaba]\n",
        "# [-74, -40] -> 34 dif /2 -> 17 values -1 -> 16 steps -> 100 s per value -> 1600 s\n",
        "explain.run(\n",
        "    duration=duration,\n",
        "    num_ecl_steps=steps,\n",
        "    E_Cl_0=ecl[0],\n",
        "    E_Cl_end=ecl[1],\n",
        ")\n",
        "explain.plot()\n",
        "explain.save_figure(**save_args)\n",
        "del explain\n"
      ]
    },
    {
      "attachments": {},
      "cell_type": "markdown",
      "metadata": {},
      "source": [
        "## Alter conductances"
      ]
    },
    {
      "cell_type": "code",
      "execution_count": null,
      "metadata": {},
      "outputs": [],
      "source": [
        "from lrdfigure_drugs import Drugs\n",
        "\n",
        "ehco3 = -18\n",
        "phco3 = 0.2\n",
        "pcl = 1 - phco3\n",
        "egabas = [-74, -60, -58, -46]\n",
        "E_Cl_0s = [round((e - phco3 * ehco3) / pcl, 2) for e in egabas]\n",
        "drugs = Drugs(benzo_strengths=(0, 0.25, 0.5, 1, 2, 3, 4, 5), E_Cl_0s=E_Cl_0s)\n",
        "drugs.run()\n",
        "drugs.plot()\n",
        "drugs.save_figure(**save_args)\n",
        "del drugs"
      ]
    },
    {
      "attachments": {},
      "cell_type": "markdown",
      "metadata": {},
      "source": [
        "## Start having dynamic chloride $Cl^-$"
      ]
    },
    {
      "cell_type": "code",
      "execution_count": null,
      "metadata": {},
      "outputs": [],
      "source": [
        "from lrdfigure_chloride import Chloride\n",
        "\n",
        "\n",
        "cl = Chloride(seeds=(None, 1038, 1337, 1111, 1010, 1011, 1101, 1110, 11110, 111100))\n",
        "cl.run(duration=600)\n",
        "cl.plot(timeit=True, colorbar=False)\n",
        "cl.save_figure(**save_args)\n",
        "del cl\n"
      ]
    },
    {
      "attachments": {},
      "cell_type": "markdown",
      "metadata": {},
      "source": [
        "## Explore time constants of \"Excitatory\" and \"Inhibitory\" KCC2\n",
        "\n",
        "$\\tau_{KCC2_{exc}}$\n",
        "\n",
        "$\\tau_{KCC2_{inh}}$"
      ]
    },
    {
      "cell_type": "code",
      "execution_count": null,
      "metadata": {},
      "outputs": [],
      "source": [
        "from lrdfigure_tau import Tau\n",
        "\n",
        "tau_KCC2_E_list = [int(g) for g in np.geomspace(50, 800, 9).round(0)]\n",
        "    # tau_KCC2_I_list = [50, 250, 375, 500, 800, 1000]\n",
        "tau_KCC2_I_list = tau_KCC2_E_list\n",
        "tau = Tau(\n",
        "    tau_KCC2_E_list=tau_KCC2_E_list,\n",
        "    tau_KCC2_I_list=tau_KCC2_I_list,\n",
        "    g_GABA_list=[50, 250],\n",
        "    seeds=(\n",
        "        None,\n",
        "        1038,\n",
        "        1337,\n",
        "        1111,\n",
        "        1010,\n",
        "    ),\n",
        ")\n",
        "tau.run(duration=600, nrn_idx_i=[0, 1, 2, 3]).plot(\n",
        "    plot_g_GABA_list=[50, 250]\n",
        ").save_figure(**save_args)\n",
        "\n",
        "del tau\n"
      ]
    },
    {
      "attachments": {},
      "cell_type": "markdown",
      "metadata": {},
      "source": [
        "## $G_{GABA}$ vs $\\tau_{KCC2}$ with $E_{GABA}$"
      ]
    },
    {
      "cell_type": "code",
      "execution_count": null,
      "metadata": {},
      "outputs": [],
      "source": [
        "from lrdfigure_ggaba_e import Gve\n",
        "\n",
        "\n",
        "gve = Gve(\n",
        "    seeds=(None, 1234, 5678),\n",
        "    gGABAsvEGABA=sorted(\n",
        "        set(\n",
        "            np.append(\n",
        "                np.round(np.arange(0, 100.0001, 10), 0),\n",
        "                np.geomspace(10, 1000, 11).round(0),\n",
        "            )\n",
        "        )\n",
        "    ),\n",
        "    gGABAs=np.geomspace(10, 1000, 11).round(0),\n",
        "    tau_KCC2s=[int(g) for g in np.geomspace(50, 800, 9).round(0)],\n",
        ")\n",
        "gve.run()\n",
        "gve.process()\n",
        "gve.plot()\n",
        "gve.save_figure(figs=gve.figs, close=True)\n"
      ]
    },
    {
      "cell_type": "code",
      "execution_count": null,
      "metadata": {},
      "outputs": [],
      "source": [
        "gve = Gve(\n",
        "    gGABAs=np.append(np.round(np.arange(0, 100.0001, 10), 0), [125, 160, 200, 250]),\n",
        "    # gAMPAs=np.round(np.arange(0, 10.0001, 1), 0),\n",
        "    tau_KCC2s=[int(g) for g in np.geomspace(200, 400, 9).round(0)],\n",
        ")\n",
        "gve.run()\n",
        "gve.process()\n",
        "gve.plot()\n",
        "gve.sim_name = gve.fig_name + \"_supp\"\n",
        "gve.save_figure(figs=gve.figs, use_args=True, close=True)\n"
      ]
    },
    {
      "attachments": {},
      "cell_type": "markdown",
      "metadata": {},
      "source": [
        "## Supplemenatry Work"
      ]
    },
    {
      "cell_type": "code",
      "execution_count": null,
      "metadata": {},
      "outputs": [],
      "source": [
        "from lrdfigure_gampa import Params\n",
        "\n",
        "gampa = Params(\n",
        "    gGABAs=np.append(np.round(np.arange(0, 100.0001, 10), 0), [125, 160, 200, 250]),\n",
        "    gAMPAs=np.round(np.arange(0, 10.0001, 1), 0),\n",
        ")\n",
        "gampa.run()\n",
        "gampa.process()\n",
        "gampa.plot()\n",
        "gampa.save_figure(figs=gampa.figs, close=True)"
      ]
    },
    {
      "cell_type": "code",
      "execution_count": null,
      "metadata": {},
      "outputs": [],
      "source": []
    }
  ],
  "metadata": {
    "kernelspec": {
      "display_name": "brian2",
      "language": "python",
      "name": "python3"
    },
    "language_info": {
      "codemirror_mode": {
        "name": "ipython",
        "version": 3
      },
      "file_extension": ".py",
      "mimetype": "text/x-python",
      "name": "python",
      "nbconvert_exporter": "python",
      "pygments_lexer": "ipython3",
      "version": "3.11.0"
    },
    "pycharm": {
      "stem_cell": {
        "cell_type": "raw",
        "metadata": {
          "collapsed": false
        },
        "source": [
          "\n"
        ]
      }
    },
    "varInspector": {
      "cols": {
        "lenName": 16,
        "lenType": 16,
        "lenVar": 40
      },
      "kernels_config": {
        "python": {
          "delete_cmd_postfix": "",
          "delete_cmd_prefix": "del ",
          "library": "var_list.py",
          "varRefreshCmd": "print(var_dic_list())"
        },
        "r": {
          "delete_cmd_postfix": ") ",
          "delete_cmd_prefix": "rm(",
          "library": "var_list.r",
          "varRefreshCmd": "cat(var_dic_list()) "
        }
      },
      "types_to_exclude": [
        "module",
        "function",
        "builtin_function_or_method",
        "instance",
        "_Feature"
      ],
      "window_display": false
    }
  },
  "nbformat": 4,
  "nbformat_minor": 1
}
