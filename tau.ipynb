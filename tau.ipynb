{
  "cells": [
    {
      "attachments": {},
      "cell_type": "markdown",
      "metadata": {},
      "source": [
        "## Estimate $\\tau_{KCC2}$ that compensates for a change in $E_{Cl}$ (via $I_{Cl}$)"
      ]
    },
    {
      "cell_type": "code",
      "execution_count": null,
      "metadata": {},
      "outputs": [],
      "source": [
        "%load_ext autoreload\n",
        "%autoreload 2"
      ]
    },
    {
      "cell_type": "code",
      "execution_count": null,
      "metadata": {
        "ExecuteTime": {
          "end_time": "2020-06-15T08:46:33.638981Z",
          "start_time": "2020-06-15T08:46:32.267647Z"
        }
      },
      "outputs": [],
      "source": [
        "from __future__ import absolute_import, division, print_function\n",
        "\n",
        "import time\n",
        "\n",
        "from matplotlib import pyplot as plt\n",
        "\n",
        "from settings import COLOR, text as TEXT, logging, time_unit\n",
        "\n",
        "# start from defaults before loading stylesheet\n",
        "plt.style.use(\"default\")\n",
        "plt.style.use(\"style/article.mplstyle\")\n",
        "\n",
        "logger = logging.getLogger(\"tau\")"
      ]
    },
    {
      "cell_type": "code",
      "execution_count": null,
      "metadata": {},
      "outputs": [],
      "source": [
        "import brian2.numpy_ as np\n",
        "from brian2 import *\n",
        "from brian2.units.constants import faraday_constant as F\n",
        "from brian2.units.constants import gas_constant as R\n",
        "from brian2.units.constants import zero_celsius\n",
        "from brian2tools import brian_plot, plot_state\n",
        "\n",
        "################################################################################\n",
        "# Settings\n",
        "################################################################################\n",
        "\n",
        "celsius_temp = 37  # Temperature\n",
        "T = celsius_temp * kelvin + zero_celsius\n",
        "rt_f = R * T / F\n",
        "\n",
        "start_time = time.time()\n",
        "sum_time = 0\n",
        "# seed(11999)  # to get identical figures for repeated runs\n",
        "start_scope()\n",
        "\n",
        "################################################################################\n",
        "# Model parameters\n",
        "################################################################################\n",
        "# Network\n",
        "N = 1  # Number of total neurons\n",
        "\n",
        "# Neuron\n",
        "V_thr = -50.0 * mV  # Firing threshold\n",
        "V_reset = -70.0 * mV  # Reset potential\n",
        "C_m = 0.550 * nF  # Membrane capacitance (excitatory population)\n",
        "tau_r = 2.0 * ms  # Refractory period (excitatory population)\n",
        "\n",
        "# Size\n",
        "L = 7.5 * um  # Length\n",
        "a = L / 2\n",
        "volume = 4.0 / 3.0 * pi * (L / 2) * (a**2)  # volume oblate spheroid\n",
        "\n",
        "# Leak\n",
        "E_leak = -70.0 * mV  # Leak reversal potential\n",
        "g_l = 20.0 * nS  # Leak conductance (excitatory population)\n",
        "\n",
        "# GABAergic (inhibitory)\n",
        "g_GABA_max = 5 * nS\n",
        "tau_GABA = 10.0 * ms\n",
        "E_Cl_0 = -88.0 * mV  # Reversal potential for Chloride\n",
        "E_HCO3 = -10 * mV  # Reversal potential for Bicarbonate\n",
        "pcl = 0.8  # Permeability proportion of Chloride through GABAA\n",
        "phco3 = 1 - pcl  # Permeability proportion of Bicarbonate through GABAA\n",
        "C_Cl_in = 5 * mM  # Internal chloride concentration (indirectly varied through d_ECl/dt)\n",
        "C_Cl_out = C_Cl_in / exp(\n",
        "    E_Cl_0 * (1 / rt_f)\n",
        ")  # External chloride concentration (constant)\n",
        "ecl_alpha = rt_f / (F * volume * C_Cl_out)\n",
        "ecl_beta = 1 / rt_f\n",
        "E_GABA_0 = (\n",
        "    pcl * E_Cl_0 + phco3 * E_HCO3\n",
        ")  # Reversal potential for GABAA (Ohmic formulation using Cl and HCO3\n",
        "#  permeabilities)\n",
        "logger.debug(\"EGABA = {:.2f}\".format(E_GABA_0 / mV))\n",
        "\n",
        "tau_KCC2_0 = 40 * second\n",
        "\n",
        "################################################################################\n",
        "# Model definition\n",
        "################################################################################\n",
        "dE_Cl_influx = \"ecl_alpha * exp( -(ecl_beta * E_Cl)) * I_Cl\"\n",
        "dE_Cl_efflux = \"(E_Cl - E_Cl_0)/tau_KCC2\"\n",
        "neuron_eqs = f\"\"\"\n",
        "    in_eff: 1\n",
        "    out_eff: 1\n",
        "    tau_KCC2: second\n",
        "\n",
        "    E_GABA = pcl * E_Cl + phco3 * E_HCO3 : volt       \n",
        "    I_GABA = g_GABA * (v - E_GABA) : amp\n",
        "    I_Cl = pcl*g_GABA * (v - E_Cl) : amp\n",
        "\n",
        "    dv / dt = (- g_l * (v - E_leak) - I_GABA) / C_m : volt\n",
        "    dE_Cl / dt = in_eff*{dE_Cl_influx} - out_eff*{dE_Cl_efflux} : volt\n",
        "    dg_GABA / dt = - g_GABA / tau_GABA : siemens\n",
        "\n",
        "\"\"\"\n",
        "# noinspection PyTypeChecker\n",
        "neurons = NeuronGroup(\n",
        "    N,\n",
        "    neuron_eqs,\n",
        "    threshold=\"v > V_thr\",\n",
        "    reset=\"v = V_reset\",\n",
        "    refractory=\"tau_r\",\n",
        "    method=\"euler\",\n",
        ")\n",
        "\n",
        "# ##############################################################################\n",
        "# # Initialisation\n",
        "# ##############################################################################\n",
        "neurons.v = E_leak\n",
        "neurons.in_eff = 1\n",
        "neurons.out_eff = 0\n",
        "neurons.tau_KCC2 = tau_KCC2_0\n",
        "neurons.E_Cl = E_Cl_0\n",
        "neurons.g_GABA = 0 * nS\n",
        "\n",
        "# external\n",
        "rate_ext = 5 * Hz\n",
        "num_inputs = 1\n",
        "P = PoissonInput(neurons, \"g_GABA\", num_inputs, rate_ext, \"g_GABA_max\")\n",
        "\n",
        "# ##############################################################################\n",
        "# # Monitors\n",
        "# ##############################################################################\n",
        "v_vars = [\"E_GABA\", \"E_Cl\", \"v\"]\n",
        "i_vars = [\"I_GABA\", \"I_Cl\"]\n",
        "g_state_mon = StateMonitor(neurons, [\"g_GABA\"], record=True)\n",
        "v_state_mon = StateMonitor(neurons, v_vars, record=True)\n",
        "i_state_mon = StateMonitor(neurons, i_vars, record=True)\n",
        "\n",
        "setup_time = time.time()\n",
        "setup_dt = setup_time - start_time\n",
        "sum_time += setup_dt\n",
        "logger.info(\"took {:.2f}s to setup\".format(setup_dt))"
      ]
    },
    {
      "cell_type": "code",
      "execution_count": null,
      "metadata": {},
      "outputs": [],
      "source": [
        "def calc_tau_kcc2_alt(icl, ecl, ecl_inf=E_Cl_0, vol=volume, clo=C_Cl_out):\n",
        "    ecl_influx = icl / (ecl_beta * np.exp(ecl_beta*ecl) * F * vol * clo)\n",
        "    return (ecl - ecl_inf) / ecl_influx\n",
        "\n",
        "def calc_tau_kcc2(icl, ecl, ecl_inf=E_Cl_0):\n",
        "    ecl_influx = ecl_alpha * exp(-(ecl_beta * ecl)) * icl\n",
        "    return (ecl - ecl_inf) / ecl_influx"
      ]
    },
    {
      "cell_type": "code",
      "execution_count": null,
      "metadata": {
        "ExecuteTime": {
          "end_time": "2020-06-15T09:13:37.735994Z",
          "start_time": "2020-06-15T08:46:33.640257Z"
        }
      },
      "outputs": [],
      "source": [
        "from tqdm import tqdm\n",
        "\n",
        "logger.info(\"running\")\n",
        "single_run = 10 * second\n",
        "prev_time_index = -int(single_run / defaultclock.dt)\n",
        "\n",
        "pbar = tqdm(total=float(\"inf\"), unit=\"s (simulated)\")\n",
        "logging.getLogger(\"root\").setLevel(logging.WARNING)\n",
        "total_duration = 0\n",
        "taus = []\n",
        "while True:\n",
        "    run(single_run, report=None)\n",
        "    total_duration += single_run\n",
        "\n",
        "    pbar.set_description_str(f\"E_Cl = {v_state_mon.E_Cl[0, -1]/mV:.3f} mV\")\n",
        "    pbar.update(single_run / second)\n",
        "\n",
        "    delta_ecl = v_state_mon.E_Cl[0, -1] - v_state_mon.E_Cl[0, prev_time_index]\n",
        "\n",
        "    sum_icl = np.sum(i_state_mon.I_Cl[0, prev_time_index:])\n",
        "\n",
        "    tau = calc_tau_kcc2(sum_icl, v_state_mon.E_Cl[0, -1])\n",
        "    tau_alt = calc_tau_kcc2_alt(sum_icl, v_state_mon.E_Cl[0, -1])\n",
        "    assert np.round(tau, 3) == np.round(tau_alt, 3)\n",
        "\n",
        "    taus.append(tau)\n",
        "\n",
        "    if 0.01 * mV > delta_ecl:\n",
        "        break\n"
      ]
    },
    {
      "cell_type": "code",
      "execution_count": null,
      "metadata": {},
      "outputs": [],
      "source": [
        "plt.scatter(np.arange(len(taus))*single_run, taus)"
      ]
    },
    {
      "cell_type": "code",
      "execution_count": null,
      "metadata": {},
      "outputs": [],
      "source": [
        "indx = int(total_duration/defaultclock.dt) - 1\n",
        "\n",
        "# get values from simulation\n",
        "E_Cl_steady = v_state_mon.E_Cl[0, indx]\n",
        "E_Cl_steady_0 = E_Cl_steady\n",
        "\n",
        "# value at 1-1/e of step function (E0 to Esteady)\n",
        "E_Cl_tau = (E_Cl_steady - E_Cl_0) * (1 - 1 / np.e) + E_Cl_0\n",
        "tau_index = argmin(np.abs(E_Cl_tau - v_state_mon.E_Cl[0, :indx]))\n",
        "duration_tau = v_state_mon.t[tau_index]\n",
        "\n",
        "# exponential fit\n",
        "from scipy.optimize import curve_fit\n",
        "\n",
        "\n",
        "def exp_func(x, a, b, c):\n",
        "    return a * np.exp(-b * x) + c\n",
        "\n",
        "xdata = v_state_mon.t[:indx] / second\n",
        "ydata = v_state_mon.E_Cl[0, :indx] / mV\n",
        "\n",
        "p0 = [E_Cl_steady - E_Cl_0, np.e, E_Cl_0]\n",
        "np.seterr(all=\"ignore\")\n",
        "popt, pcov = curve_fit(exp_func, xdata, ydata, p0=p0)\n",
        "\n",
        "E_Cl_0_fit = (popt[0] + popt[2]) * mV\n",
        "tau_fit = 1 / popt[1] * second\n",
        "E_Cl_steady_fit = popt[2] * mV\n",
        "E_Cl_tau_fit = (E_Cl_steady_fit - E_Cl_0_fit) * (1 - 1 / np.e) + E_Cl_0_fit\n",
        "print(f\"E_Cl_steady_fit  = {E_Cl_steady_fit/mV:.3f} mV\")\n",
        "print(f\"tau_fit \\t = {tau_fit/second:.3f} s\")\n",
        "print(f\"E_Cl_0_fit \\t = {E_Cl_0_fit/mV:.3f} mV\")\n",
        "\n",
        "# plot\n",
        "plot_state(\n",
        "    xdata*second,\n",
        "    ydata*mV,\n",
        "    var_name=TEXT.ECL,\n",
        "    time_unit=second,\n",
        "    label=\"sim\",\n",
        "    color=COLOR.ECL,\n",
        ")\n",
        "\n",
        "x_fit = np.linspace(v_state_mon.t[0], v_state_mon.t[indx], 1000) / second\n",
        "y_fit = exp_func(x_fit, *popt)\n",
        "\n",
        "plt.plot(x_fit, y_fit, \"--\", c=\"k\", label=\"fit\")\n",
        "\n",
        "# plot 1-1/e point\n",
        "\n",
        "plt.annotate(\n",
        "    f\"$\\\\tau$ = {duration_tau/second:.1f} s\",\n",
        "    xy=(duration_tau / second, E_Cl_tau / mV),\n",
        "    xytext=(15, 15),\n",
        "    ha=\"left\",\n",
        "    textcoords=\"offset points\", color=COLOR.ECL,\n",
        "    arrowprops=dict(arrowstyle=\"-|>\", color=COLOR.ECL),\n",
        ")\n",
        "plt.annotate(\n",
        "    f\"$\\\\tau$ = {tau_fit/second:.1f} s\",\n",
        "    xy=(tau_fit / second, E_Cl_tau / mV),\n",
        "    xytext=(15, -15),\n",
        "    textcoords=\"offset points\",\n",
        "    ha=\"left\",\n",
        "    color=\"k\",\n",
        "    arrowprops=dict(arrowstyle=\"-|>\", color=\"k\"),\n",
        ")\n",
        "\n",
        "plt.legend()\n",
        "\n",
        "print()\n",
        "print(f\"E_Cl_steady \\t = {E_Cl_steady/mV:.3f} mV\")\n",
        "print(f\"E_Cl_tau \\t = {E_Cl_tau/mV:.3f} mV\")\n",
        "print(f\"duration_tau \\t = {duration_tau/second:.3f} s\")"
      ]
    },
    {
      "cell_type": "code",
      "execution_count": null,
      "metadata": {
        "ExecuteTime": {
          "end_time": "2020-06-15T09:13:49.372238Z",
          "start_time": "2020-06-15T09:13:48.334540Z"
        }
      },
      "outputs": [],
      "source": [
        "total_i_cl = np.sum(i_state_mon.I_Cl[0, :indx])\n",
        "\n",
        "logger.info(\n",
        "    f\"it took {total_duration / second:.3f}s for ECl to go from \"\n",
        "    f\"{E_Cl_0 / mV}mV to {E_Cl_steady / mV:.3f}mV through an ICl of {total_i_cl / nA:.3f}nA\"\n",
        ")\n",
        "\n",
        "tau = calc_tau_kcc2(total_i_cl, E_Cl_steady)\n",
        "\n",
        "logger.info(f\"required compensatory tauKCC2 (for 0 dE_Cl) = {tau / second :.8f} seconds\")\n"
      ]
    },
    {
      "cell_type": "code",
      "execution_count": null,
      "metadata": {
        "ExecuteTime": {
          "end_time": "2020-06-15T09:39:41.380542Z",
          "start_time": "2020-06-15T09:13:49.375832Z"
        }
      },
      "outputs": [],
      "source": [
        "neurons.in_eff = 0\n",
        "neurons.out_eff = 1\n",
        "neurons.tau_KCC2 = duration_tau/np.e\n",
        "\n",
        "run(total_duration, report=\"text\")\n",
        "total_i_cl = np.sum(i_state_mon.I_Cl[0, indx:])\n",
        "logger.info(f\"total_i_cl after= {total_i_cl / nA} nA\")\n",
        "p2_size = i_state_mon.I_Cl[0].size\n",
        "logger.info(f\"ECl after only extrusion = {v_state_mon.E_Cl[0,-1]/mV:.3f} mV\")\n",
        "\n"
      ]
    },
    {
      "cell_type": "code",
      "execution_count": null,
      "metadata": {},
      "outputs": [],
      "source": [
        "plot_state(v_state_mon.t, v_state_mon.E_Cl.T, time_unit=time_unit, var_name='$E_{Cl^-}$')"
      ]
    },
    {
      "cell_type": "code",
      "execution_count": null,
      "metadata": {
        "ExecuteTime": {
          "end_time": "2020-06-15T10:05:32.133968Z",
          "start_time": "2020-06-15T09:39:41.381988Z"
        }
      },
      "outputs": [],
      "source": [
        "logger.info(f\"activating both intrusion and extrusion, resetting ECl to {E_Cl_0}\")\n",
        "neurons.in_eff = 1\n",
        "neurons.out_eff = 1\n",
        "neurons.E_Cl = E_Cl_0\n",
        "\n",
        "run(total_duration, report=\"text\")\n",
        "\n",
        "total_i_cl = np.sum(i_state_mon.I_Cl[0][p2_size:])\n",
        "E_Cl_steady = v_state_mon.E_Cl[0, -1]\n",
        "logger.info(\n",
        "    f\"it took {total_duration / second}s for ECl to go from \"\n",
        "    f\"{E_Cl_0 / mV}mV to {E_Cl_steady / mV}mV through an ICl of {total_i_cl / nA} nA\"\n",
        ")\n",
        "logger.info(f\"total_i_cl after= {total_i_cl / nA} nA\")\n",
        "\n",
        "run_time = time.time()\n",
        "run_dt = run_time - setup_time\n",
        "sum_time = run_time - start_time\n",
        "logger.info(\"took {:.2f}s to run (total time = {:.2f}s)\".format(run_dt, sum_time))"
      ]
    },
    {
      "cell_type": "code",
      "execution_count": null,
      "metadata": {
        "ExecuteTime": {
          "end_time": "2020-06-15T10:07:55.767613Z",
          "start_time": "2020-06-15T10:05:32.135150Z"
        }
      },
      "outputs": [],
      "source": [
        "plot_state(v_state_mon.t, v_state_mon.E_Cl.T, time_unit=time_unit, var_name='$E_{Cl^-}$')"
      ]
    },
    {
      "cell_type": "code",
      "execution_count": null,
      "metadata": {
        "ExecuteTime": {
          "start_time": "2020-06-15T08:46:32.313Z"
        }
      },
      "outputs": [],
      "source": [
        "fix, ax = plt.subplots(2, 1, figsize=(6, 6))\n",
        "colors = [COLOR.inh, COLOR.ECL, \"k\"]\n",
        "for v_var, c in zip(v_vars, colors):\n",
        "    plot_state(\n",
        "        v_state_mon.t,\n",
        "        getattr(v_state_mon, v_var).T,\n",
        "        axes=ax[0],\n",
        "        var_name=\"\",\n",
        "        var_unit=mV,\n",
        "        time_unit=time_unit,\n",
        "        lw=1,\n",
        "        alpha=0.5,\n",
        "        c=c,\n",
        "    )\n",
        "ax_to_annotate: Axes = ax[1]\n",
        "ax_to_annotate.annotate(\n",
        "    f\"$\\tau={tau / second} s$\", xy=(indx, E_Cl_steady_0 / mV)\n",
        ")\n",
        "\n",
        "for i_var, c in zip(i_vars, colors):\n",
        "    plot_state(\n",
        "        i_state_mon.t,\n",
        "        getattr(i_state_mon, i_var).T,\n",
        "        axes=ax[1],\n",
        "        var_name=\"\",\n",
        "        var_unit=nA,\n",
        "        time_unit=time_unit,\n",
        "        lw=1,\n",
        "        alpha=0.5,\n",
        "        c=c,\n",
        "    )\n",
        "\n",
        "ax[0].set_ylabel(\"(mV)\")\n",
        "v_vars_leg = []\n",
        "for v_var in v_vars:\n",
        "    tmp = v_var.replace(\"_\", \"_{\")\n",
        "    tmp = tmp + \"}\" if \"{\" in tmp else tmp\n",
        "    v_vars_leg.append(f\"${tmp}$\")\n",
        "i_vars_leg = []\n",
        "for i_var in i_vars:\n",
        "    tmp = i_var.replace(\"_\", \"_{\")\n",
        "    tmp = tmp + \"}\" if \"{\" in tmp else tmp\n",
        "    i_vars_leg.append(f\"${tmp}$\")\n",
        "ax[0].legend(v_vars_leg)\n",
        "ax[1].legend(i_vars_leg)\n",
        "\n",
        "total_i = np.sum(i_state_mon.I_Cl) / nA\n",
        "\n",
        "logger.info(f\"total_i = {total_i} nA\")\n",
        "\n",
        "if matplotlib.get_backend().lower() not in [\"agg\", \"pdf\"]:\n",
        "    show()"
      ]
    },
    {
      "cell_type": "code",
      "execution_count": null,
      "metadata": {},
      "outputs": [],
      "source": []
    }
  ],
  "metadata": {
    "kernelspec": {
      "display_name": "brian2",
      "language": "python",
      "name": "python3"
    },
    "language_info": {
      "codemirror_mode": {
        "name": "ipython",
        "version": 3
      },
      "file_extension": ".py",
      "mimetype": "text/x-python",
      "name": "python",
      "nbconvert_exporter": "python",
      "pygments_lexer": "ipython3",
      "version": "3.10.11"
    },
    "varInspector": {
      "cols": {
        "lenName": 16,
        "lenType": 16,
        "lenVar": 40
      },
      "kernels_config": {
        "python": {
          "delete_cmd_postfix": "",
          "delete_cmd_prefix": "del ",
          "library": "var_list.py",
          "varRefreshCmd": "print(var_dic_list())"
        },
        "r": {
          "delete_cmd_postfix": ") ",
          "delete_cmd_prefix": "rm(",
          "library": "var_list.r",
          "varRefreshCmd": "cat(var_dic_list()) "
        }
      },
      "types_to_exclude": [
        "module",
        "function",
        "builtin_function_or_method",
        "instance",
        "_Feature"
      ],
      "window_display": false
    }
  },
  "nbformat": 4,
  "nbformat_minor": 2
}
